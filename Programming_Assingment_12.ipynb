{
 "cells": [
  {
   "cell_type": "code",
   "execution_count": null,
   "id": "4d449452",
   "metadata": {},
   "outputs": [],
   "source": [
    "Write a Python program to Extract Unique values dictionary values?\n",
    "Write a Python program to find the sum of all items in a dictionary?\n",
    "Write a Python program to Merging two Dictionaries?\n",
    "Write a Python program to convert key-values list to flat dictionary?\n",
    "Write a Python program to insertion at the beginning in OrderedDict?\n",
    "Write a Python program to check order of character in string using OrderedDict()?\n",
    "Write a Python program to sort Python Dictionaries by Key or Value?\n"
   ]
  },
  {
   "cell_type": "code",
   "execution_count": null,
   "id": "71dd797a",
   "metadata": {},
   "outputs": [],
   "source": [
    "#1. Write a Python program to Extract Unique values dictionary values?\n",
    "\n",
    "from itertools import chain\n",
    "\n",
    "dict1 = {'A' : [10, 11, 2],\n",
    "             'B' : [4, 6, 8, 10],\n",
    "             'C' : [9, 10, 23, 11, 2],\n",
    "             'D' : [10, 3, 4]}\n",
    "  \n",
    "res = list(sorted(set(chain(*dict1.values()))))\n",
    "  \n",
    "print(\"The unique values list is : \" , res) "
   ]
  },
  {
   "cell_type": "code",
   "execution_count": null,
   "id": "a62525df",
   "metadata": {
    "scrolled": true
   },
   "outputs": [],
   "source": [
    "#2. Write a Python program to find the sum of all items in a dictionary?\n",
    " \n",
    "dict2 ={ 'x':455, 'y':223, 'z':300, 'p':908 }\n",
    "\n",
    "sum1 = 0\n",
    "\n",
    "for i in (dict2.values()):\n",
    "    sum1 = sum1+i\n",
    "    print(sum1)"
   ]
  },
  {
   "cell_type": "code",
   "execution_count": null,
   "id": "1f7892e3",
   "metadata": {},
   "outputs": [],
   "source": [
    "#3. Write a Python program to Merging two Dictionaries?\n",
    "\n",
    "dict_1 = {1: 'a', 2: 'b'}\n",
    "dict_2 = {2: 'c', 4: 'd'}\n",
    "\n",
    "print({**dict_1, **dict_2})"
   ]
  },
  {
   "cell_type": "code",
   "execution_count": null,
   "id": "81783e15",
   "metadata": {},
   "outputs": [],
   "source": [
    "#4. Write a Python program to convert key-values list to flat dictionary?\n",
    "\n",
    "from itertools import product\n",
    "\n",
    "my_dict = {'month_num' : [1, 2, 3, 4, 5, 6], 'name_of_month' : ['Jan', 'Feb', 'March', 'Apr', 'May', 'June']}\n",
    "\n",
    "print(\"The dictionary is : \")\n",
    "print(my_dict)\n",
    "\n",
    "my_result = dict(zip(my_dict['month_num'], my_dict['name_of_month']))\n",
    "\n",
    "print(\"The flattened dictionary is: \")\n",
    "print(my_result)"
   ]
  },
  {
   "cell_type": "code",
   "execution_count": null,
   "id": "dc91461e",
   "metadata": {},
   "outputs": [],
   "source": [
    "#5. Write a Python program to insertion at the beginning in OrderedDict?\n",
    "\n",
    "from collections import OrderedDict\n",
    "  \n",
    "iniordered_dict = OrderedDict([('Feb', '2'), ('Mar', '3')])\n",
    "  \n",
    "iniordered_dict.update({'Jan':'1'})\n",
    "iniordered_dict.move_to_end('Jan', last = False)\n",
    "  \n",
    "print (\"Ordered Dictionary after insertion : \"+str(iniordered_dict))"
   ]
  },
  {
   "cell_type": "code",
   "execution_count": null,
   "id": "f18a9ae6",
   "metadata": {},
   "outputs": [],
   "source": [
    "#6. Write a Python program to check order of character in string using OrderedDict()?\n",
    "from collections import OrderedDict \n",
    "  \n",
    "def checkOrderofString(str, pattern): \n",
    "      \n",
    "    # create empty OrderedDict \n",
    "    dict = OrderedDict.fromkeys(str) \n",
    "    print(dict)   \n",
    "    ptrlen = 0\n",
    "    for key,value in dict.items(): \n",
    "        \n",
    "        if (key == pattern[ptrlen]): \n",
    "            ptrlen = ptrlen + 1\n",
    "          \n",
    "        # check if we have traverse complete pattern string \n",
    "        if (ptrlen == (len(pattern))):            \n",
    "            return 'true'\n",
    "  \n",
    "    # if we come out from for loop that means order was mismatched \n",
    "    return 'false'\n",
    "  \n",
    "\n",
    "string = input(\"enter string : \")\n",
    "pattern = input(\"Enter Pattern : \")\n",
    "if checkOrderofString(string,pattern):\n",
    "    print(\"Pattern matched\")\n",
    "else:\n",
    "    print(\"Pattern not matched\")"
   ]
  },
  {
   "cell_type": "code",
   "execution_count": null,
   "id": "938e8548",
   "metadata": {},
   "outputs": [],
   "source": [
    "#7. Write a Python program to sort Python Dictionaries by Key or Value?\n",
    "a = {1:2 ,2:1 ,4:3 ,3:4 ,6:5 ,5:6 }\n",
    "print(sorted(a.keys()))\n",
    "print(sorted(a.values()))\n"
   ]
  }
 ],
 "metadata": {
  "kernelspec": {
   "display_name": "Python 3 (ipykernel)",
   "language": "python",
   "name": "python3"
  },
  "language_info": {
   "codemirror_mode": {
    "name": "ipython",
    "version": 3
   },
   "file_extension": ".py",
   "mimetype": "text/x-python",
   "name": "python",
   "nbconvert_exporter": "python",
   "pygments_lexer": "ipython3",
   "version": "3.9.7"
  }
 },
 "nbformat": 4,
 "nbformat_minor": 5
}
