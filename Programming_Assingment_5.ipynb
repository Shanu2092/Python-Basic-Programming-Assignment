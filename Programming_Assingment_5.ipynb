{
  "nbformat": 4,
  "nbformat_minor": 0,
  "metadata": {
    "colab": {
      "provenance": [],
      "authorship_tag": "ABX9TyNMNNoSoMnICOAmMJ8mJoil",
      "include_colab_link": true
    },
    "kernelspec": {
      "name": "python3",
      "display_name": "Python 3"
    },
    "language_info": {
      "name": "python"
    }
  },
  "cells": [
    {
      "cell_type": "markdown",
      "metadata": {
        "id": "view-in-github",
        "colab_type": "text"
      },
      "source": [
        "<a href=\"https://colab.research.google.com/github/Shanu2092/Python-Basic-Programming-Assignment/blob/main/Programming_Assingment_5.ipynb\" target=\"_parent\"><img src=\"https://colab.research.google.com/assets/colab-badge.svg\" alt=\"Open In Colab\"/></a>"
      ]
    },
    {
      "cell_type": "markdown",
      "source": [
        "1. Write a Python Program to Find LCM?\n",
        "2. Write a Python Program to Find HCF?\n",
        "3. Write a Python Program to Convert Decimal to Binary, Octal and Hexadecimal?\n",
        "4. Write a Python Program To Find ASCII value of a character?\n",
        "5. Write a Python Program to Make a Simple Calculator with 4 basic mathematical operations?\n"
      ],
      "metadata": {
        "id": "kwKP4n7hTqO4"
      }
    },
    {
      "cell_type": "code",
      "execution_count": 1,
      "metadata": {
        "id": "841g90yDToAZ"
      },
      "outputs": [],
      "source": [
        "## Write a Python Program to Find LCM?\n",
        "\n"
      ]
    },
    {
      "cell_type": "code",
      "source": [],
      "metadata": {
        "id": "WXT1fDHZc1oo"
      },
      "execution_count": null,
      "outputs": []
    }
  ]
}