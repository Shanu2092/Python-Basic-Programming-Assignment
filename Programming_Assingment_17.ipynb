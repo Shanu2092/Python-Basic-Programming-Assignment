{
  "nbformat": 4,
  "nbformat_minor": 0,
  "metadata": {
    "colab": {
      "name": "Programming_Assingment_17.ipynb",
      "provenance": []
    },
    "kernelspec": {
      "name": "python3",
      "display_name": "Python 3"
    },
    "language_info": {
      "name": "python"
    }
  },
  "cells": [
    {
      "cell_type": "markdown",
      "source": [
        "Question1. Create a function that takes three arguments a, b, c and returns the sum of the numbers that are evenly divided by c from the range a, b inclusive."
      ],
      "metadata": {
        "id": "z7MHVgP-U5mp"
      }
    },
    {
      "cell_type": "code",
      "source": [
        "def sumDivisibles(a, b, c):     \n",
        "    sum = 0\n",
        "    for i in range(a, b + 1): \n",
        "        if (i % c == 0):\n",
        "            sum += i \n",
        "    return sum\n",
        "a = int(input('Enter a : '))\n",
        "b = int(input('Enter b : '))\n",
        "c = int(input('Enter c : '))\n",
        "print(sumDivisibles(a, b, c))"
      ],
      "metadata": {
        "colab": {
          "base_uri": "https://localhost:8080/"
        },
        "id": "3ZnOae4sU8A9",
        "outputId": "e29f7e9e-c690-49ab-f60a-142a68feae58"
      },
      "execution_count": null,
      "outputs": [
        {
          "output_type": "stream",
          "name": "stdout",
          "text": [
            "Enter a : 1\n",
            "Enter b : 10\n",
            "Enter c : 3\n",
            "18\n"
          ]
        }
      ]
    },
    {
      "cell_type": "markdown",
      "source": [
        "Question2. Create a function that returns True if a given inequality expression is correct and False otherwise.\n",
        "\n",
        "Examples\n",
        "\n",
        "correct_signs(\"3 < 7 < 11\") ➞ True\n",
        "\n",
        "correct_signs(\"13 > 44 > 33 > 1\") ➞ False\n",
        "\n",
        "correct_signs(\"1 < 2 < 6 < 9 > 3\") ➞ True"
      ],
      "metadata": {
        "id": "MA9LWYvgdnL7"
      }
    },
    {
      "cell_type": "code",
      "source": [
        "def correct_signs ( txt ) : \n",
        "    return eval ( txt )\n",
        "print(correct_signs(\"3 > 7 < 11\"))\n",
        "print(correct_signs(\"13 > 44 > 33 > 1\"))\n",
        "print(correct_signs(\"1 < 2 < 6 < 9 > 3\"))"
      ],
      "metadata": {
        "colab": {
          "base_uri": "https://localhost:8080/"
        },
        "id": "ggJgwO9ydtf3",
        "outputId": "c5d15b33-344c-44f4-d4e4-0e8444aec600"
      },
      "execution_count": null,
      "outputs": [
        {
          "output_type": "stream",
          "name": "stdout",
          "text": [
            "False\n",
            "False\n",
            "True\n"
          ]
        }
      ]
    },
    {
      "cell_type": "code",
      "source": [
        "Question3. Create a function that replaces all the vowels in a string with a specified character.\n",
        "Examples\n",
        "replace_vowels(\"the aardvark\", \"#\") ➞ \"th# ##rdv#rk\"\n",
        "\n",
        "replace_vowels(\"minnie mouse\", \"?\") ➞ \"m?nn?? m??s?\"\n",
        "\n",
        "replace_vowels(\"shakespeare\", \"*\") ➞ \"sh*k*sp**r*\""
      ],
      "metadata": {
        "id": "u8krWza8eahJ"
      },
      "execution_count": null,
      "outputs": []
    },
    {
      "cell_type": "code",
      "source": [
        "def replace_vowels(str,c):\n",
        "  vowel = 'AEIOUaeiou'\n",
        "  for i in vowel:\n",
        "      str = str.replace(i,c)\n",
        "  return (str)"
      ],
      "metadata": {
        "id": "lfmhDEu_esX0"
      },
      "execution_count": null,
      "outputs": []
    },
    {
      "cell_type": "code",
      "source": [
        "replace_vowels(\"the aardvark\", \"#\")"
      ],
      "metadata": {
        "colab": {
          "base_uri": "https://localhost:8080/",
          "height": 35
        },
        "id": "An8_CXorgw4B",
        "outputId": "e17bb22d-1b5d-422a-ebf9-5350c77513de"
      },
      "execution_count": null,
      "outputs": [
        {
          "output_type": "execute_result",
          "data": {
            "text/plain": [
              "'th# ##rdv#rk'"
            ],
            "application/vnd.google.colaboratory.intrinsic+json": {
              "type": "string"
            }
          },
          "metadata": {},
          "execution_count": 16
        }
      ]
    },
    {
      "cell_type": "markdown",
      "source": [
        "Question4. Write a function that calculates the factorial of a number recursively.\n",
        "\n",
        "Examples\n",
        "\n",
        "factorial(5) ➞ 120\n",
        "\n",
        "factorial(3) ➞ 6\n",
        "\n",
        "factorial(1) ➞ 1\n",
        "\n",
        "factorial(0) ➞ 1"
      ],
      "metadata": {
        "id": "URk4OZnEhAp3"
      }
    },
    {
      "cell_type": "code",
      "source": [
        "def factorial(n):\n",
        "  if n == 0 or n == 1:\n",
        "    return 1\n",
        "  else:\n",
        "    return (n * factorial(n-1))"
      ],
      "metadata": {
        "id": "fJoGChBUhCQ_"
      },
      "execution_count": 23,
      "outputs": []
    },
    {
      "cell_type": "code",
      "source": [
        "factorial(5)"
      ],
      "metadata": {
        "colab": {
          "base_uri": "https://localhost:8080/"
        },
        "id": "K13QYfJ_hl85",
        "outputId": "1176d273-5872-40a4-8c17-d788b16a4151"
      },
      "execution_count": 24,
      "outputs": [
        {
          "output_type": "execute_result",
          "data": {
            "text/plain": [
              "120"
            ]
          },
          "metadata": {},
          "execution_count": 24
        }
      ]
    },
    {
      "cell_type": "markdown",
      "source": [
        "Question 5\n",
        "Hamming distance is the number of characters that differ between two strings.\n",
        "To illustrate:\n",
        "String1: \"abcbba\"\n",
        "String2: \"abcbda\"\n",
        "\n",
        "Hamming Distance: 1 - \"b\" vs. \"d\" is the only difference.\n",
        "Create a function that computes the hamming distance between two strings.\n",
        "\n",
        "Examples\n",
        "hamming_distance(\"abcde\", \"bcdef\") ➞ 5\n",
        "\n",
        "hamming_distance(\"abcde\", \"abcde\") ➞ 0\n",
        "\n",
        "hamming_distance(\"strong\", \"strung\") ➞ 1"
      ],
      "metadata": {
        "id": "n_TJ2HpkiP5H"
      }
    },
    {
      "cell_type": "code",
      "source": [
        "def hamming_distance(str1, str2):\n",
        "    i = 0\n",
        "    count = 0\n",
        " \n",
        "    while(i < len(str1)):\n",
        "        if(str1[i] != str2[i]):\n",
        "            count += 1\n",
        "        i += 1\n",
        "    return count"
      ],
      "metadata": {
        "id": "p9a_Vvm7iO2Z"
      },
      "execution_count": 25,
      "outputs": []
    },
    {
      "cell_type": "code",
      "source": [
        "str1 = \"abcde\"\n",
        "str2 = \"bcdef\"\n",
        " \n",
        "print(hamming_distance(str1, str2))"
      ],
      "metadata": {
        "colab": {
          "base_uri": "https://localhost:8080/"
        },
        "id": "PAaVwK4JiKi8",
        "outputId": "39224d1a-10f9-41ad-aa1c-e6aa239ab6bc"
      },
      "execution_count": 26,
      "outputs": [
        {
          "output_type": "stream",
          "name": "stdout",
          "text": [
            "5\n"
          ]
        }
      ]
    }
  ]
}