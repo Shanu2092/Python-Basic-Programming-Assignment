{
 "cells": [
  {
   "cell_type": "raw",
   "id": "526cab0f",
   "metadata": {},
   "source": [
    "Write a Python program to print \"Hello Python\"?\n",
    "Write a Python program to do arithmetical operations addition and division.?\n",
    "Write a Python program to find the area of a triangle?\n",
    "Write a Python program to swap two variables?\n",
    "Write a Python program to generate a random number?\n"
   ]
  },
  {
   "cell_type": "code",
   "execution_count": null,
   "id": "2027a892",
   "metadata": {},
   "outputs": [],
   "source": [
    "#1.Write a Python program to print \"Hello Python\"?\n",
    "\n",
    "print(\"Hello World\")"
   ]
  },
  {
   "cell_type": "code",
   "execution_count": null,
   "id": "f048270f",
   "metadata": {},
   "outputs": [],
   "source": [
    "#2.Write a Python program to do arithmetical operations addition and division.?\n",
    "\n",
    "a = 10\n",
    "b = 12\n",
    "\n",
    "print(\"sum : \",a+b)\n",
    "print(\"division : \",a/b)"
   ]
  },
  {
   "cell_type": "code",
   "execution_count": null,
   "id": "cdde2253",
   "metadata": {},
   "outputs": [],
   "source": [
    "#3.Write a Python program to find the area of a triangle?\n",
    "\n",
    "\n",
    "h = int(input(\"Enter the height of the triangle \"))\n",
    "b = int(input(\"Enter the base of the triangle \"))\n",
    "\n",
    "\n",
    "area = (h*b)/2\n",
    "\n",
    "\n",
    "print(\"Area of the triangle is : \" ,area)"
   ]
  },
  {
   "cell_type": "code",
   "execution_count": null,
   "id": "918157d8",
   "metadata": {},
   "outputs": [],
   "source": [
    "#4. Write a Python program to swap two variables?\n",
    "\n",
    "\n",
    "a = int(input(\"Enter the value of a \"))\n",
    "b = int(input(\"Enter the value of b \"))\n",
    "\n",
    "print(\"before swapping a : {} and b : {} \".format(a,b))\n",
    "\n",
    "a,b = b,a\n",
    "\n",
    "print(\"after swapping a : {} and b : {} \".format(a,b))\n"
   ]
  },
  {
   "cell_type": "code",
   "execution_count": null,
   "id": "38e22603",
   "metadata": {},
   "outputs": [],
   "source": [
    "#4. Write a Python program to generate a random number?\n",
    "\n",
    "import random\n",
    "\n",
    "random.randint(0,304)"
   ]
  }
 ],
 "metadata": {
  "kernelspec": {
   "display_name": "Python 3 (ipykernel)",
   "language": "python",
   "name": "python3"
  },
  "language_info": {
   "codemirror_mode": {
    "name": "ipython",
    "version": 3
   },
   "file_extension": ".py",
   "mimetype": "text/x-python",
   "name": "python",
   "nbconvert_exporter": "python",
   "pygments_lexer": "ipython3",
   "version": "3.9.7"
  }
 },
 "nbformat": 4,
 "nbformat_minor": 5
}
