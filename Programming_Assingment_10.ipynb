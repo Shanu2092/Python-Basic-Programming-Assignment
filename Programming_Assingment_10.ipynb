{
 "cells": [
  {
   "cell_type": "code",
   "execution_count": null,
   "id": "08e260cf",
   "metadata": {},
   "outputs": [],
   "source": [
    "Write a Python program to find sum of elements in list?\n",
    "Write a Python program to  Multiply all numbers in the list?\n",
    "Write a Python program to find smallest number in a list?\n",
    "Write a Python program to find largest number in a list?\n",
    "Write a Python program to find second largest number in a list?\n",
    "Write a Python program to find N largest elements from a list?\n",
    "Write a Python program to print even numbers in a list?\n",
    "Write a Python program to print odd numbers in a List?\n",
    "Write a Python program to Remove empty List from List?\n",
    "Write a Python program to Cloning or Copying a list?\n",
    "Write a Python program to Count occurrences of an element in a list?\n"
   ]
  },
  {
   "cell_type": "code",
   "execution_count": null,
   "id": "5154db08",
   "metadata": {},
   "outputs": [],
   "source": [
    "#1. Write a Python program to find sum of elements in list?\n",
    "\n",
    "l = [2,4,56,6,7,87,799,66,55]\n",
    "\n",
    "sum = 0\n",
    "\n",
    "for i in l:\n",
    "    sum += i\n",
    "    \n",
    "print(sum)"
   ]
  },
  {
   "cell_type": "code",
   "execution_count": null,
   "id": "918ac934",
   "metadata": {},
   "outputs": [],
   "source": [
    "#2. Write a Python program to  Multiply all numbers in the list?\n",
    "\n",
    "l = [2,4,56,6,7,87,799,66,55]\n",
    "\n",
    "sum = 1\n",
    "\n",
    "for i in l:\n",
    "    sum *= i\n",
    "    \n",
    "print(sum)"
   ]
  },
  {
   "cell_type": "code",
   "execution_count": null,
   "id": "2097500c",
   "metadata": {},
   "outputs": [],
   "source": [
    "#3. Write a Python program to find smallest number in a list?\n",
    "\n",
    "l = [2,4,56,6,7,87,799,66,55]\n",
    "\n",
    "min(l)"
   ]
  },
  {
   "cell_type": "code",
   "execution_count": null,
   "id": "f428c8de",
   "metadata": {},
   "outputs": [],
   "source": [
    "#4. Write a Python program to find largest number in a list?\n",
    "\n",
    "l = [2,4,56,6,7,87,799,66,55]\n",
    "\n",
    "max(l)"
   ]
  },
  {
   "cell_type": "code",
   "execution_count": null,
   "id": "db638919",
   "metadata": {},
   "outputs": [],
   "source": [
    "#5. Write a Python program to find second largest number in a list?\n",
    "\n",
    "l = [2,4,56,6,7,87,799,66,55]\n",
    "\n",
    "l.remove(max(l))\n",
    "\n",
    "max(l)"
   ]
  },
  {
   "cell_type": "code",
   "execution_count": null,
   "id": "8f66c13b",
   "metadata": {},
   "outputs": [],
   "source": [
    "#6. Write a Python program to find N largest elements from a list?\n",
    "\n",
    "N = int(input(\"Enter the value of N : \"))\n",
    "l = [2,4,56,6,7,87,799,66,55]\n",
    "\n",
    "l.sort(reverse = True)\n",
    "print(l[:N])"
   ]
  },
  {
   "cell_type": "code",
   "execution_count": null,
   "id": "0554e624",
   "metadata": {},
   "outputs": [],
   "source": [
    "#7. Write a Python program to print even numbers in a list?\n",
    "\n",
    "l = [2,4,56,6,7,87,799,66,55]\n",
    "\n",
    "even_no = []\n",
    "\n",
    "for i in l:\n",
    "    if i%2 == 0:\n",
    "        even_no.append(i)\n",
    "print('even_no : ',even_no)\n",
    "    "
   ]
  },
  {
   "cell_type": "code",
   "execution_count": null,
   "id": "96da7921",
   "metadata": {},
   "outputs": [],
   "source": [
    "#8. Write a Python program to print odd numbers in a list?\n",
    "\n",
    "l = [2,4,56,6,7,87,799,66,55]\n",
    "\n",
    "\n",
    "odd_no = []\n",
    "\n",
    "for i in l:\n",
    "    if i%2 != 0:\n",
    "        odd_no.append(i)\n",
    "print('odd_no : ',odd_no)\n",
    "    "
   ]
  },
  {
   "cell_type": "code",
   "execution_count": null,
   "id": "c46412ad",
   "metadata": {},
   "outputs": [],
   "source": [
    "#9. Write a Python program to Remove empty List from List?\n",
    "\n",
    "l = [2,4, [2,3,45,6,7] ,56,[],6,7,[2,3,45,6,7] ,87,[],[799,66],55]\n",
    "\n",
    "for i in l:\n",
    "    if type(i) == list:\n",
    "        if len(i) == 0:\n",
    "            l.remove(i)\n",
    "            \n",
    "print(l)\n"
   ]
  },
  {
   "cell_type": "code",
   "execution_count": null,
   "id": "d8103c23",
   "metadata": {},
   "outputs": [],
   "source": [
    "#10. Write a Python program to Cloning or Copying a list?\n",
    "\n",
    "og_list = [2,4,56,6,7,87,799,66,55]\n",
    "copy = []\n",
    "\n",
    "for i in og_list:\n",
    "    copy.append(i)\n",
    "print(copy)\n",
    "\n",
    "copy = og_list.copy()\n",
    "copy\n"
   ]
  },
  {
   "cell_type": "code",
   "execution_count": null,
   "id": "5c3538fb",
   "metadata": {},
   "outputs": [],
   "source": [
    "#11. Write a Python program to Count occurrences of an element in a list?\n",
    "\n",
    "l = [2,4,56,6,99,4,56,6,7,66,4,56,6,7,87,799,4,567,87,799,4,56,6,7,66,4,56,6,7,87,799,4,56,655]\n",
    "\n",
    "\n",
    "l.count(4)"
   ]
  },
  {
   "cell_type": "code",
   "execution_count": null,
   "id": "46a85bab",
   "metadata": {},
   "outputs": [],
   "source": []
  }
 ],
 "metadata": {
  "kernelspec": {
   "display_name": "Python 3 (ipykernel)",
   "language": "python",
   "name": "python3"
  },
  "language_info": {
   "codemirror_mode": {
    "name": "ipython",
    "version": 3
   },
   "file_extension": ".py",
   "mimetype": "text/x-python",
   "name": "python",
   "nbconvert_exporter": "python",
   "pygments_lexer": "ipython3",
   "version": "3.9.7"
  }
 },
 "nbformat": 4,
 "nbformat_minor": 5
}
