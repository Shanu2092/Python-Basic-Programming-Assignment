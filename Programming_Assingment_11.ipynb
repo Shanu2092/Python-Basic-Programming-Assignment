{
 "cells": [
  {
   "cell_type": "code",
   "execution_count": 8,
   "id": "adaca1bc",
   "metadata": {},
   "outputs": [
    {
     "name": "stdout",
     "output_type": "stream",
     "text": [
      "Enter the value of k 4\n",
      "Enter a stringt\n",
      "[]\n"
     ]
    }
   ],
   "source": [
    "#1. Write a Python program to find words which are greater than given length k?\n",
    "\n",
    "k = int(input(\"Enter the value of k \"))\n",
    "str1 = input(\"Enter a string\")\n",
    "l = []\n",
    "\n",
    "for i in str1.split():\n",
    "    if len(i) > k:\n",
    "        l.append(i)\n",
    "print(l)\n",
    "    "
   ]
  },
  {
   "cell_type": "code",
   "execution_count": 26,
   "id": "87d86021",
   "metadata": {},
   "outputs": [],
   "source": [
    "#2. Write a Python program for removing i-th character from a string?\n",
    "str = input(\"Enter a String \")\n",
    "\n",
    "for j in range(len(str)):\n",
    "    if j == 2:\n",
    "        str = str.replace(str[i], \" \")"
   ]
  },
  {
   "cell_type": "code",
   "execution_count": 51,
   "id": "3474363a",
   "metadata": {},
   "outputs": [],
   "source": [
    "#3. Write a Python program to split and join a string?\n",
    "\n",
    "s = \"An article is any member of a class of \"\n",
    "s1 = \"\".join(s)"
   ]
  },
  {
   "cell_type": "code",
   "execution_count": 57,
   "id": "b7a9f8b9",
   "metadata": {},
   "outputs": [
    {
     "name": "stdout",
     "output_type": "stream",
     "text": [
      "binary at :  0\n",
      "binary at :  0\n",
      "binary at :  0\n",
      "binary at :  1\n",
      "binary at :  1\n",
      "binary at :  1\n",
      "binary at :  1\n",
      "binary at :  1\n",
      "binary at :  1\n",
      "binary at :  1\n",
      "binary at :  1\n",
      "binary at :  0\n",
      "binary at :  0\n",
      "binary at :  1\n",
      "binary at :  0\n",
      "binary at :  1\n",
      "binary at :  0\n",
      "binary at :  1\n",
      "binary at :  0\n",
      "binary at :  1\n",
      "binary at :  1\n",
      "binary at :  1\n"
     ]
    }
   ],
   "source": [
    "#4. Write a Python to check if a given string is binary string or not?\n",
    "s = \"An article is any member of a clas000 1111  1111 00101 0 10  111s of \"\n",
    "\n",
    "binary = \"01\"\n",
    "for i in s:\n",
    "    if i not in binary:\n",
    "        pass\n",
    "    else:\n",
    "        print(\"binary: \",i)\n"
   ]
  },
  {
   "cell_type": "code",
   "execution_count": 62,
   "id": "7081c011",
   "metadata": {},
   "outputs": [
    {
     "name": "stdout",
     "output_type": "stream",
     "text": [
      "['d', 'f', ' ', 'g', 'e', 't', 'h', 'y', 'j']\n"
     ]
    }
   ],
   "source": [
    "#5.Write a Python program to find uncommon words from two Strings?\n",
    "s1 = \"df gegt hyh yy tjtj\"\n",
    "s2 = \"tgtth hyjhj g gjjg jfj jf\"\n",
    "uc = []\n",
    "for i in s1:\n",
    "    if i not in uc:\n",
    "        uc.append(i)\n",
    "for j in s2:\n",
    "    if j not in uc:\n",
    "        uc.append(j)\n",
    "    \n",
    "print(uc)\n",
    "\n"
   ]
  },
  {
   "cell_type": "code",
   "execution_count": 77,
   "id": "b444d165",
   "metadata": {},
   "outputs": [
    {
     "name": "stdout",
     "output_type": "stream",
     "text": [
      "['f', 'd', 'f', ' ', 'g', 'f', 'g', 'h', ' ', 'f', 'h', ' ', 'f', 'h', 'h', 'f', 'h', ' ', 'f', 'h', 'f', 'g', 'h', 'g', 'j', ' ', 'g', 'h', 'j', 'f', ' ', 'g', 'd', 'd', 'd', ' ', 'j', 'h', 'g', 'h', 'h', ' ', 'g', 'h', 'g', 'j']\n"
     ]
    }
   ],
   "source": [
    "#6. Write a Python to find all duplicate characters in string?\n",
    "\n",
    "duplicate = []\n",
    "for i in s1:\n",
    "    if s1.count(i)>1:\n",
    "        duplicate.append(i)\n",
    "        \n",
    "print(duplicate)"
   ]
  },
  {
   "cell_type": "code",
   "execution_count": null,
   "id": "fe3e8491",
   "metadata": {},
   "outputs": [],
   "source": [
    "#7. Write a Python Program to check if a string contains any special character?\n",
    "import re\n",
    "regex = re.compile('[@_!#$%^&*()<>?/\\|}{~:]')\n",
    "\n"
   ]
  },
  {
   "cell_type": "code",
   "execution_count": null,
   "id": "8db4a447",
   "metadata": {},
   "outputs": [],
   "source": []
  }
 ],
 "metadata": {
  "kernelspec": {
   "display_name": "Python 3 (ipykernel)",
   "language": "python",
   "name": "python3"
  },
  "language_info": {
   "codemirror_mode": {
    "name": "ipython",
    "version": 3
   },
   "file_extension": ".py",
   "mimetype": "text/x-python",
   "name": "python",
   "nbconvert_exporter": "python",
   "pygments_lexer": "ipython3",
   "version": "3.9.7"
  }
 },
 "nbformat": 4,
 "nbformat_minor": 5
}
