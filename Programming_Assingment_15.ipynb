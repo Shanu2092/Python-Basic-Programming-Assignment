{
 "cells": [
  {
   "cell_type": "markdown",
   "id": "cac5a151",
   "metadata": {},
   "source": [
    "Question 1:\n",
    "\n",
    "Please write a program using generator to print the numbers which can be divisible by 5 and 7 between 0 and n in comma separated form while n is input by console.\n",
    "\n",
    "Example:\n",
    "\n",
    "If the following n is given as input to the program:\n",
    "100\n",
    "\n",
    "Then, the output of the program should be:\n",
    "0,35,70\n"
   ]
  },
  {
   "cell_type": "code",
   "execution_count": null,
   "id": "71412867",
   "metadata": {},
   "outputs": [],
   "source": [
    "def gen(n):\n",
    "    for i in range(0,n):\n",
    "        if i%5 == 0 or i%7 == 0:\n",
    "            j = i\n",
    "            yield(j)\n",
    "        \n",
    "    "
   ]
  },
  {
   "cell_type": "code",
   "execution_count": null,
   "id": "4f6bf340",
   "metadata": {},
   "outputs": [],
   "source": [
    "x = gen(10)"
   ]
  },
  {
   "cell_type": "code",
   "execution_count": null,
   "id": "2d94c3d7",
   "metadata": {},
   "outputs": [],
   "source": [
    "x.__next__()"
   ]
  },
  {
   "cell_type": "markdown",
   "id": "2620ca2e",
   "metadata": {},
   "source": [
    "Question 2:\n",
    "\n",
    "Please write a program using generator to print the even numbers between 0 and n in comma separated form while n is input by console.\n",
    "\n",
    "Example:\n",
    "\n",
    "If the following n is given as input to the program:\n",
    "10\n",
    "\n",
    "Then, the output of the program should be:\n",
    "0,2,4,6,8,10\n"
   ]
  },
  {
   "cell_type": "code",
   "execution_count": null,
   "id": "909d2fd0",
   "metadata": {},
   "outputs": [],
   "source": [
    "def gen_(n):\n",
    "    for i in range(0,n):\n",
    "        if i%2 == 0:\n",
    "            j = i\n",
    "            yield(j)"
   ]
  },
  {
   "cell_type": "code",
   "execution_count": null,
   "id": "0850eb84",
   "metadata": {},
   "outputs": [],
   "source": [
    "x = gen_(10)"
   ]
  },
  {
   "cell_type": "code",
   "execution_count": null,
   "id": "054bd8b7",
   "metadata": {},
   "outputs": [],
   "source": [
    "x.__next__()"
   ]
  },
  {
   "cell_type": "markdown",
   "id": "0eb2af75",
   "metadata": {},
   "source": [
    "Question 3:\n",
    "\n",
    "The Fibonacci Sequence is computed based on the following formula:\n",
    "f(n)=0 if n=0\n",
    "f(n)=1 if n=1\n",
    "f(n)=f(n-1)+f(n-2) if n>1\n",
    "\n",
    "Please write a program using list comprehension to print the Fibonacci Sequence in comma separated form with a given n input by console.\n",
    "\n",
    "Example:\n",
    "\n",
    "If the following n is given as input to the program:\n",
    "7\n",
    "\n",
    "Then, the output of the program should be:\n",
    "0,1,1,2,3,5,8,13\n"
   ]
  },
  {
   "cell_type": "code",
   "execution_count": 3,
   "id": "db7d1b4c",
   "metadata": {},
   "outputs": [
    {
     "name": "stdout",
     "output_type": "stream",
     "text": [
      "Enter a number :7\n"
     ]
    },
    {
     "data": {
      "text/plain": [
       "['0', '1', '1', '2', '3', '5', '8', '13']"
      ]
     },
     "execution_count": 3,
     "metadata": {},
     "output_type": "execute_result"
    }
   ],
   "source": [
    "def fib(n):\n",
    "    if n == 0:\n",
    "        return (0)\n",
    "    if n == 1:\n",
    "        return (1)\n",
    "    if n>1:\n",
    "        return fib(n-1)+fib(n-2) \n",
    "    \n",
    "n=int(input('Enter a number :')) \n",
    "values = [str(fib(x)) for x in range(0, n+1)]\n",
    "values"
   ]
  },
  {
   "cell_type": "markdown",
   "id": "e72141b6",
   "metadata": {},
   "source": [
    "Question 4:\n",
    "    \n",
    "Assuming that we have some email addresses in the \"username@companyname.com\" format, please write program to print the user name of a given email address. Both user names and company names are composed of letters only.\n",
    "\n",
    "Example:\n",
    "    \n",
    "If the following email address is given as input to the program:\n",
    "john@google.com\n",
    "Then, the output of the program should be:\n",
    "john\n"
   ]
  },
  {
   "cell_type": "code",
   "execution_count": 8,
   "id": "fad4b1d9",
   "metadata": {},
   "outputs": [
    {
     "name": "stdout",
     "output_type": "stream",
     "text": [
      "Enter the email address : john@google.com\n",
      "User name :  john\n",
      "Company name :  google\n"
     ]
    }
   ],
   "source": [
    "email = input(\"Enter the email address : \").split('@')\n",
    "company = str(email[1]).split('.')\n",
    "print(\"User name : \",email[0])\n",
    "print(\"Company name : \",company[0])"
   ]
  },
  {
   "cell_type": "markdown",
   "id": "7505f9cf",
   "metadata": {},
   "source": [
    "Question 5:\n",
    "\n",
    "Define a class named Shape and its subclass Square. The Square class has an init function which takes a length as argument. Both classes have a area function which can print the area of the shape where Shape's area is 0 by default.\n"
   ]
  },
  {
   "cell_type": "code",
   "execution_count": 9,
   "id": "47b17593",
   "metadata": {},
   "outputs": [
    {
     "name": "stdout",
     "output_type": "stream",
     "text": [
      "25\n"
     ]
    }
   ],
   "source": [
    "class Shape(object):\n",
    "    def __init__(self):\n",
    "        pass\n",
    "\n",
    "    def area(self):\n",
    "        return 0\n",
    "\n",
    "class Square(Shape):\n",
    "    def __init__(self, l):\n",
    "        Shape.__init__(self)\n",
    "        self.length = l\n",
    "\n",
    "    def area(self):\n",
    "        return self.length*self.length\n",
    "\n",
    "objSquare= Square(5)\n",
    "print(objSquare.area())"
   ]
  }
 ],
 "metadata": {
  "kernelspec": {
   "display_name": "Python 3 (ipykernel)",
   "language": "python",
   "name": "python3"
  },
  "language_info": {
   "codemirror_mode": {
    "name": "ipython",
    "version": 3
   },
   "file_extension": ".py",
   "mimetype": "text/x-python",
   "name": "python",
   "nbconvert_exporter": "python",
   "pygments_lexer": "ipython3",
   "version": "3.9.7"
  }
 },
 "nbformat": 4,
 "nbformat_minor": 5
}
