{
 "cells": [
  {
   "cell_type": "code",
   "execution_count": null,
   "id": "69249ebd",
   "metadata": {},
   "outputs": [],
   "source": [
    "#1.Write a Python Program to Check if a Number is Positive, Negative or Zero?\n",
    "\n",
    "a = int(input(\"Enter a number \"))\n",
    "\n",
    "if a>0:\n",
    "    print(\"{} is a positive number \".format(a))\n",
    "elif a == 0:\n",
    "    print(\"its Zero\")\n",
    "else:\n",
    "    print(\"{} is a positive number \".format(a))"
   ]
  },
  {
   "cell_type": "code",
   "execution_count": null,
   "id": "620efed8",
   "metadata": {},
   "outputs": [],
   "source": [
    "#2. Write a Python Program to Check if a Number is Odd or Even?\n",
    " \n",
    "a = int(input(\"Enter a number \"))\n",
    "\n",
    "if a % 2 == 0:\n",
    "    print(\"{} is an even number\".format(a))\n",
    "else:\n",
    "    print(\"{} is an odd number\".format(a))"
   ]
  },
  {
   "cell_type": "code",
   "execution_count": null,
   "id": "81859e0c",
   "metadata": {},
   "outputs": [],
   "source": [
    "#3.Write a Python Program to Check Leap Year?\n",
    "\n",
    "\n",
    "# Python program to check leap year or not\n",
    "def checkYear(year):\n",
    "    if (year % 4) == 0:\n",
    "        if (year % 100) == 0:\n",
    "            if (year % 400) == 0:\n",
    "                return True\n",
    "            else:\n",
    "                return False\n",
    "        else:\n",
    "             return True\n",
    "    else:\n",
    "        return False\n",
    "    \n",
    "    \n",
    "year = int(input(\"Enter an year \"))\n",
    "if(checkYear(year)):\n",
    "    print(\"Leap Year\")\n",
    "else:\n",
    "    print(\"Not a Leap Year\")"
   ]
  },
  {
   "cell_type": "code",
   "execution_count": null,
   "id": "17a65e2e",
   "metadata": {},
   "outputs": [],
   "source": [
    "#4.Write a Python Pnum1 = int(input(\"Enter a number: \")) \n",
    " \n",
    "num1 = int(input(\"Enter a number: \")) \n",
    " \n",
    "if num1 > 1:\n",
    "    for i in range(2,num1):\n",
    "        if (num1%i) == 0:\n",
    "            print(num1,'is not a prime')                \n",
    "            break\n",
    "    else:\n",
    "        print(num1,'is a prime number')\n",
    "else:\n",
    "    print(\"Number is less than 1\")"
   ]
  },
  {
   "cell_type": "code",
   "execution_count": null,
   "id": "778654df",
   "metadata": {},
   "outputs": [],
   "source": [
    "#5. Write a Python Program to Print all Prime Numbers in an Interval of 1-10000?\n",
    "for i in range(1,10000):\n",
    "    for j in range(2,i):\n",
    "        if i%j == 0:\n",
    "            break\n",
    "        else:\n",
    "            print(i,\"prime no\")\n",
    "            break"
   ]
  },
  {
   "cell_type": "code",
   "execution_count": null,
   "id": "ec1f6a14",
   "metadata": {},
   "outputs": [],
   "source": []
  },
  {
   "cell_type": "code",
   "execution_count": null,
   "id": "d81d993d",
   "metadata": {},
   "outputs": [],
   "source": []
  },
  {
   "cell_type": "code",
   "execution_count": null,
   "id": "9d473e33",
   "metadata": {},
   "outputs": [],
   "source": []
  }
 ],
 "metadata": {
  "kernelspec": {
   "display_name": "Python 3 (ipykernel)",
   "language": "python",
   "name": "python3"
  },
  "language_info": {
   "codemirror_mode": {
    "name": "ipython",
    "version": 3
   },
   "file_extension": ".py",
   "mimetype": "text/x-python",
   "name": "python",
   "nbconvert_exporter": "python",
   "pygments_lexer": "ipython3",
   "version": "3.9.7"
  }
 },
 "nbformat": 4,
 "nbformat_minor": 5
}
