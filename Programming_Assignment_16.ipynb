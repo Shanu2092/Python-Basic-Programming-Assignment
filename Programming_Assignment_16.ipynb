{
  "nbformat": 4,
  "nbformat_minor": 0,
  "metadata": {
    "colab": {
      "name": "Programming_Assignment_16.ipynb",
      "provenance": [],
      "collapsed_sections": []
    },
    "kernelspec": {
      "name": "python3",
      "display_name": "Python 3"
    },
    "language_info": {
      "name": "python"
    }
  },
  "cells": [
    {
      "cell_type": "markdown",
      "source": [
        "Question1. Write a function that stutters a word as if someone is struggling to read it. The first two letters are repeated twice with an ellipsis ... and space after each, and then the word is pronounced with a question mark ?.\n",
        "Examples\n",
        "stutter(\"incredible\") ➞ \"in... in... incredible?\"\n",
        "\n",
        "stutter(\"enthusiastic\") ➞ \"en... en... enthusiastic?\"\n",
        "\n",
        "stutter(\"outstanding\") ➞ \"ou... ou... outstanding?\"\n",
        "\n",
        "Hint :- Assume all input is in lower case and at least two characters long.\n"
      ],
      "metadata": {
        "id": "PBE9TcuAOQe0"
      }
    },
    {
      "cell_type": "code",
      "source": [
        "def stutter(word):\n",
        "  return(word[:2] + \"....\" + word[:2]  + \"....\" + word +  \"?\")\n",
        "\n"
      ],
      "metadata": {
        "id": "h54sh9AXOTMr"
      },
      "execution_count": 7,
      "outputs": []
    },
    {
      "cell_type": "code",
      "source": [
        "stutter(\"outstanding\")"
      ],
      "metadata": {
        "colab": {
          "base_uri": "https://localhost:8080/",
          "height": 35
        },
        "id": "3_-tzkbQOY1w",
        "outputId": "e2651afa-6c6c-4cbe-a9b2-33b67daa96a3"
      },
      "execution_count": 8,
      "outputs": [
        {
          "output_type": "execute_result",
          "data": {
            "text/plain": [
              "'ou....ou....outstanding?'"
            ],
            "application/vnd.google.colaboratory.intrinsic+json": {
              "type": "string"
            }
          },
          "metadata": {},
          "execution_count": 8
        }
      ]
    },
    {
      "cell_type": "markdown",
      "source": [
        "Question 2.Create a function that takes an angle in radians and returns the corresponding angle in degrees rounded to one decimal place.\n",
        "Examples\n",
        "radians_to_degrees(1) ➞ 57.3\n",
        "\n",
        "radians_to_degrees(20) ➞ 1145.9\n",
        "\n",
        "radians_to_degrees(50) ➞ 2864.8\n"
      ],
      "metadata": {
        "id": "cPi49psLPFn2"
      }
    },
    {
      "cell_type": "code",
      "source": [
        "def radians_to_degrees(radian):\n",
        "    pi = 3.14159\n",
        "    degree = radian * (180/pi)\n",
        "    return degree\n"
      ],
      "metadata": {
        "id": "mnF31VStPO10"
      },
      "execution_count": 11,
      "outputs": []
    },
    {
      "cell_type": "code",
      "source": [
        " \n",
        "radian = 20\n",
        "print(\"degree =\",(radians_to_degrees(radian)))"
      ],
      "metadata": {
        "colab": {
          "base_uri": "https://localhost:8080/"
        },
        "id": "qvfKgDcNPz0u",
        "outputId": "81b68c3c-434b-4d1c-96df-2f82cbab8dd1"
      },
      "execution_count": 13,
      "outputs": [
        {
          "output_type": "stream",
          "name": "stdout",
          "text": [
            "degree = 1145.9165581759555\n"
          ]
        }
      ]
    },
    {
      "cell_type": "markdown",
      "source": [
        "Question 3. In this challenge, establish if a given integer num is a Curzon number. If 1 plus 2 elevated to num is exactly divisible by 1 plus 2 multiplied by num, then num is a Curzon number.\n",
        "Given a non-negative integer num, implement a function that returns True if num is a Curzon number, or False otherwise.\n",
        "\n"
      ],
      "metadata": {
        "id": "mpk3dKd-P_oE"
      }
    },
    {
      "cell_type": "code",
      "source": [
        "def is_curzon(num):\n",
        "  l = []\n",
        "  l.append(2**num +1)\n",
        "  l.append(2*num + 1)\n",
        "  if l[0]%l[1] == 0:\n",
        "    return (\"True\")\n",
        "  else:\n",
        "    return(\"False\")"
      ],
      "metadata": {
        "id": "QMA4ddJoQUGT"
      },
      "execution_count": 4,
      "outputs": []
    },
    {
      "cell_type": "code",
      "source": [
        "is_curzon(14)"
      ],
      "metadata": {
        "colab": {
          "base_uri": "https://localhost:8080/",
          "height": 35
        },
        "id": "9q1HZUUbQNO2",
        "outputId": "ca5c0618-6b7b-43a1-f943-1b40c2ba1eb1"
      },
      "execution_count": 6,
      "outputs": [
        {
          "output_type": "execute_result",
          "data": {
            "text/plain": [
              "'True'"
            ],
            "application/vnd.google.colaboratory.intrinsic+json": {
              "type": "string"
            }
          },
          "metadata": {},
          "execution_count": 6
        }
      ]
    },
    {
      "cell_type": "markdown",
      "source": [
        "Question 4.Given the side length x find the area of a hexagon.\n",
        "\n",
        "Examples\n",
        "area_of_hexagon(1) ➞ 2.6\n",
        "\n",
        "area_of_hexagon(2) ➞ 10.4\n",
        "\n",
        "area_of_hexagon(3) ➞ 23.4"
      ],
      "metadata": {
        "id": "HXlZEilZR4wI"
      }
    },
    {
      "cell_type": "code",
      "source": [
        "def area_of_hexagon(s):\n",
        "  return((3*(3**0.5)/2) * (s**s))"
      ],
      "metadata": {
        "id": "Ffjq_uEOSIHB"
      },
      "execution_count": 12,
      "outputs": []
    },
    {
      "cell_type": "code",
      "source": [
        "area_of_hexagon(2)"
      ],
      "metadata": {
        "colab": {
          "base_uri": "https://localhost:8080/"
        },
        "id": "1xJ2j0S2SmVo",
        "outputId": "124a97e6-f86b-4815-8a4e-692dac816848"
      },
      "execution_count": 13,
      "outputs": [
        {
          "output_type": "execute_result",
          "data": {
            "text/plain": [
              "10.392304845413264"
            ]
          },
          "metadata": {},
          "execution_count": 13
        }
      ]
    },
    {
      "cell_type": "markdown",
      "source": [
        "Question 5. Create a function that returns a base-2 (binary) representation of a base-10 (decimal) string number. To convert is simple: ((2) means base-2 and (10) means base-10) 010101001(2) = 1 + 8 + 32 + 128.\n",
        "Going from right to left, the value of the most right bit is 1, now from that every bit to the left will be x2 the value, value of an 8 bit binary numbers are (256, 128, 64, 32, 16, 8, 4, 2, 1).\n",
        "\n"
      ],
      "metadata": {
        "id": "rqjRA3puS1FO"
      }
    },
    {
      "cell_type": "code",
      "source": [
        "def decimalToBinary(n):\n",
        "    return bin(n).replace(\"0b\", \"\")"
      ],
      "metadata": {
        "id": "HHTDf0UrS7I4"
      },
      "execution_count": 14,
      "outputs": []
    }
  ]
}